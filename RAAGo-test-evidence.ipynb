{
 "cells": [
  {
   "cell_type": "code",
   "execution_count": 1,
   "id": "fa5d641f-e534-47a0-9228-22ed09e1642f",
   "metadata": {},
   "outputs": [],
   "source": [
    "import pandas as pd\n",
    "import numpy as np\n",
    "import matplotlib.pyplot as plt\n",
    "import seaborn as sns\n",
    "import math"
   ]
  },
  {
   "cell_type": "code",
   "execution_count": 55,
   "id": "d1c99bab-142c-4aaf-96b5-6080c90c706d",
   "metadata": {},
   "outputs": [],
   "source": [
    "EVIDENCE_FILENAME = \"estimations/raago_tobi/prior_evidence_dynamic_time.csv\"\n",
    "MATCHES_FILENAME = \"data/aago/aago_original_filtered.adapted.csv\"\n",
    "PRIORS_FILENAME = \"estimations/raago_tobi/priors.csv\""
   ]
  },
  {
   "cell_type": "code",
   "execution_count": 10,
   "id": "5beb100d-4967-4599-8c69-6e10af91b831",
   "metadata": {},
   "outputs": [
    {
     "data": {
      "text/html": [
       "<div>\n",
       "<style scoped>\n",
       "    .dataframe tbody tr th:only-of-type {\n",
       "        vertical-align: middle;\n",
       "    }\n",
       "\n",
       "    .dataframe tbody tr th {\n",
       "        vertical-align: top;\n",
       "    }\n",
       "\n",
       "    .dataframe thead th {\n",
       "        text-align: right;\n",
       "    }\n",
       "</style>\n",
       "<table border=\"1\" class=\"dataframe\">\n",
       "  <thead>\n",
       "    <tr style=\"text-align: right;\">\n",
       "      <th></th>\n",
       "      <th>evidence</th>\n",
       "    </tr>\n",
       "    <tr>\n",
       "      <th>match_id</th>\n",
       "      <th></th>\n",
       "    </tr>\n",
       "  </thead>\n",
       "  <tbody>\n",
       "    <tr>\n",
       "      <th>0</th>\n",
       "      <td>1.000000e+00</td>\n",
       "    </tr>\n",
       "    <tr>\n",
       "      <th>1</th>\n",
       "      <td>4.707918e-10</td>\n",
       "    </tr>\n",
       "    <tr>\n",
       "      <th>2</th>\n",
       "      <td>9.999924e-01</td>\n",
       "    </tr>\n",
       "    <tr>\n",
       "      <th>3</th>\n",
       "      <td>9.999949e-01</td>\n",
       "    </tr>\n",
       "    <tr>\n",
       "      <th>4</th>\n",
       "      <td>1.000000e+00</td>\n",
       "    </tr>\n",
       "    <tr>\n",
       "      <th>...</th>\n",
       "      <td>...</td>\n",
       "    </tr>\n",
       "    <tr>\n",
       "      <th>3284</th>\n",
       "      <td>7.205429e-01</td>\n",
       "    </tr>\n",
       "    <tr>\n",
       "      <th>3285</th>\n",
       "      <td>9.726549e-01</td>\n",
       "    </tr>\n",
       "    <tr>\n",
       "      <th>3286</th>\n",
       "      <td>9.078378e-01</td>\n",
       "    </tr>\n",
       "    <tr>\n",
       "      <th>3288</th>\n",
       "      <td>9.863069e-01</td>\n",
       "    </tr>\n",
       "    <tr>\n",
       "      <th>3317</th>\n",
       "      <td>9.998616e-01</td>\n",
       "    </tr>\n",
       "  </tbody>\n",
       "</table>\n",
       "<p>3318 rows × 1 columns</p>\n",
       "</div>"
      ],
      "text/plain": [
       "              evidence\n",
       "match_id              \n",
       "0         1.000000e+00\n",
       "1         4.707918e-10\n",
       "2         9.999924e-01\n",
       "3         9.999949e-01\n",
       "4         1.000000e+00\n",
       "...                ...\n",
       "3284      7.205429e-01\n",
       "3285      9.726549e-01\n",
       "3286      9.078378e-01\n",
       "3288      9.863069e-01\n",
       "3317      9.998616e-01\n",
       "\n",
       "[3318 rows x 1 columns]"
      ]
     },
     "execution_count": 10,
     "metadata": {},
     "output_type": "execute_result"
    }
   ],
   "source": [
    "df_evidence = pd.read_csv(EVIDENCE_FILENAME, index_col=\"match_id\")\n",
    "df_evidence"
   ]
  },
  {
   "cell_type": "code",
   "execution_count": 11,
   "id": "110b5037-390f-486f-863e-9128f2cf8133",
   "metadata": {},
   "outputs": [
    {
     "data": {
      "text/plain": [
       "<AxesSubplot:xlabel='evidence', ylabel='Count'>"
      ]
     },
     "execution_count": 11,
     "metadata": {},
     "output_type": "execute_result"
    },
    {
     "data": {
      "image/png": "[encoded data removed]",
      "text/plain": [
       "<Figure size 432x288 with 1 Axes>"
      ]
     },
     "metadata": {
      "needs_background": "light"
     },
     "output_type": "display_data"
    }
   ],
   "source": [
    "sns.histplot(data=df_evidence, x=\"evidence\", bins=50, log_scale=(True,True))"
   ]
  },
  {
   "cell_type": "code",
   "execution_count": 12,
   "id": "4d729b38-3fe0-4b74-bca3-926d5442f24d",
   "metadata": {},
   "outputs": [
    {
     "data": {
      "text/plain": [
       "35"
      ]
     },
     "execution_count": 12,
     "metadata": {},
     "output_type": "execute_result"
    }
   ],
   "source": [
    "len(df_evidence[df_evidence[\"evidence\"] < 1e-5])"
   ]
  },
  {
   "cell_type": "code",
   "execution_count": 13,
   "id": "f53bc8b3-8ddb-4b09-91f2-ede3a93b1795",
   "metadata": {},
   "outputs": [],
   "source": [
    "def geometric_mean(data):\n",
    "    return math.exp(np.log(data).mean())"
   ]
  },
  {
   "cell_type": "code",
   "execution_count": 14,
   "id": "3ee9fb73-65b1-4f16-a0d9-1bf21cb63e85",
   "metadata": {},
   "outputs": [
    {
     "data": {
      "text/plain": [
       "0.491816668261546"
      ]
     },
     "execution_count": 14,
     "metadata": {},
     "output_type": "execute_result"
    }
   ],
   "source": [
    "geometric_mean(df_evidence[df_evidence[\"evidence\"] > 1e-5][\"evidence\"])"
   ]
  },
  {
   "cell_type": "code",
   "execution_count": 15,
   "id": "5a22b9a2-d082-4ae4-8d40-026ef17082af",
   "metadata": {},
   "outputs": [
    {
     "data": {
      "text/html": [
       "<div>\n",
       "<style scoped>\n",
       "    .dataframe tbody tr th:only-of-type {\n",
       "        vertical-align: middle;\n",
       "    }\n",
       "\n",
       "    .dataframe tbody tr th {\n",
       "        vertical-align: top;\n",
       "    }\n",
       "\n",
       "    .dataframe thead th {\n",
       "        text-align: right;\n",
       "    }\n",
       "</style>\n",
       "<table border=\"1\" class=\"dataframe\">\n",
       "  <thead>\n",
       "    <tr style=\"text-align: right;\">\n",
       "      <th></th>\n",
       "      <th>black</th>\n",
       "      <th>white</th>\n",
       "      <th>handicap</th>\n",
       "      <th>komi</th>\n",
       "      <th>winner</th>\n",
       "      <th>day</th>\n",
       "      <th>start_date</th>\n",
       "      <th>event_id</th>\n",
       "    </tr>\n",
       "    <tr>\n",
       "      <th>id</th>\n",
       "      <th></th>\n",
       "      <th></th>\n",
       "      <th></th>\n",
       "      <th></th>\n",
       "      <th></th>\n",
       "      <th></th>\n",
       "      <th></th>\n",
       "      <th></th>\n",
       "    </tr>\n",
       "  </thead>\n",
       "  <tbody>\n",
       "    <tr>\n",
       "      <th>0</th>\n",
       "      <td>2</td>\n",
       "      <td>1</td>\n",
       "      <td>5</td>\n",
       "      <td>0.5</td>\n",
       "      <td>B</td>\n",
       "      <td>1</td>\n",
       "      <td>2012-06-26</td>\n",
       "      <td>1</td>\n",
       "    </tr>\n",
       "    <tr>\n",
       "      <th>1</th>\n",
       "      <td>2</td>\n",
       "      <td>1</td>\n",
       "      <td>0</td>\n",
       "      <td>6.5</td>\n",
       "      <td>W</td>\n",
       "      <td>3</td>\n",
       "      <td>2012-06-28</td>\n",
       "      <td>2</td>\n",
       "    </tr>\n",
       "    <tr>\n",
       "      <th>2</th>\n",
       "      <td>3</td>\n",
       "      <td>4</td>\n",
       "      <td>0</td>\n",
       "      <td>6.5</td>\n",
       "      <td>W</td>\n",
       "      <td>4</td>\n",
       "      <td>2012-06-29</td>\n",
       "      <td>3</td>\n",
       "    </tr>\n",
       "    <tr>\n",
       "      <th>3</th>\n",
       "      <td>4</td>\n",
       "      <td>3</td>\n",
       "      <td>0</td>\n",
       "      <td>6.5</td>\n",
       "      <td>B</td>\n",
       "      <td>5</td>\n",
       "      <td>2012-06-30</td>\n",
       "      <td>4</td>\n",
       "    </tr>\n",
       "    <tr>\n",
       "      <th>4</th>\n",
       "      <td>5</td>\n",
       "      <td>3</td>\n",
       "      <td>0</td>\n",
       "      <td>6.5</td>\n",
       "      <td>W</td>\n",
       "      <td>5</td>\n",
       "      <td>2012-06-30</td>\n",
       "      <td>4</td>\n",
       "    </tr>\n",
       "    <tr>\n",
       "      <th>...</th>\n",
       "      <td>...</td>\n",
       "      <td>...</td>\n",
       "      <td>...</td>\n",
       "      <td>...</td>\n",
       "      <td>...</td>\n",
       "      <td>...</td>\n",
       "      <td>...</td>\n",
       "      <td>...</td>\n",
       "    </tr>\n",
       "    <tr>\n",
       "      <th>3284</th>\n",
       "      <td>216</td>\n",
       "      <td>218</td>\n",
       "      <td>0</td>\n",
       "      <td>6.5</td>\n",
       "      <td>W</td>\n",
       "      <td>2862</td>\n",
       "      <td>2020-04-02</td>\n",
       "      <td>75</td>\n",
       "    </tr>\n",
       "    <tr>\n",
       "      <th>3285</th>\n",
       "      <td>53</td>\n",
       "      <td>96</td>\n",
       "      <td>0</td>\n",
       "      <td>6.5</td>\n",
       "      <td>B</td>\n",
       "      <td>2862</td>\n",
       "      <td>2020-04-02</td>\n",
       "      <td>75</td>\n",
       "    </tr>\n",
       "    <tr>\n",
       "      <th>3286</th>\n",
       "      <td>16</td>\n",
       "      <td>27</td>\n",
       "      <td>0</td>\n",
       "      <td>6.5</td>\n",
       "      <td>W</td>\n",
       "      <td>2862</td>\n",
       "      <td>2020-04-02</td>\n",
       "      <td>75</td>\n",
       "    </tr>\n",
       "    <tr>\n",
       "      <th>3288</th>\n",
       "      <td>23</td>\n",
       "      <td>127</td>\n",
       "      <td>0</td>\n",
       "      <td>6.5</td>\n",
       "      <td>B</td>\n",
       "      <td>2862</td>\n",
       "      <td>2020-04-02</td>\n",
       "      <td>75</td>\n",
       "    </tr>\n",
       "    <tr>\n",
       "      <th>3317</th>\n",
       "      <td>216</td>\n",
       "      <td>223</td>\n",
       "      <td>0</td>\n",
       "      <td>6.5</td>\n",
       "      <td>B</td>\n",
       "      <td>2862</td>\n",
       "      <td>2020-04-02</td>\n",
       "      <td>75</td>\n",
       "    </tr>\n",
       "  </tbody>\n",
       "</table>\n",
       "<p>3318 rows × 8 columns</p>\n",
       "</div>"
      ],
      "text/plain": [
       "      black  white  handicap  komi winner   day  start_date  event_id\n",
       "id                                                                   \n",
       "0         2      1         5   0.5      B     1  2012-06-26         1\n",
       "1         2      1         0   6.5      W     3  2012-06-28         2\n",
       "2         3      4         0   6.5      W     4  2012-06-29         3\n",
       "3         4      3         0   6.5      B     5  2012-06-30         4\n",
       "4         5      3         0   6.5      W     5  2012-06-30         4\n",
       "...     ...    ...       ...   ...    ...   ...         ...       ...\n",
       "3284    216    218         0   6.5      W  2862  2020-04-02        75\n",
       "3285     53     96         0   6.5      B  2862  2020-04-02        75\n",
       "3286     16     27         0   6.5      W  2862  2020-04-02        75\n",
       "3288     23    127         0   6.5      B  2862  2020-04-02        75\n",
       "3317    216    223         0   6.5      B  2862  2020-04-02        75\n",
       "\n",
       "[3318 rows x 8 columns]"
      ]
     },
     "execution_count": 15,
     "metadata": {},
     "output_type": "execute_result"
    }
   ],
   "source": [
    "df_matches = pd.read_csv(MATCHES_FILENAME, index_col=\"id\")\n",
    "df_matches"
   ]
  },
  {
   "cell_type": "code",
   "execution_count": 58,
   "id": "58adf1bb-eb74-4f70-92f4-8c6e1d96da5c",
   "metadata": {},
   "outputs": [
    {
     "data": {
      "text/html": [
       "<div>\n",
       "<style scoped>\n",
       "    .dataframe tbody tr th:only-of-type {\n",
       "        vertical-align: middle;\n",
       "    }\n",
       "\n",
       "    .dataframe tbody tr th {\n",
       "        vertical-align: top;\n",
       "    }\n",
       "\n",
       "    .dataframe thead th {\n",
       "        text-align: right;\n",
       "    }\n",
       "</style>\n",
       "<table border=\"1\" class=\"dataframe\">\n",
       "  <thead>\n",
       "    <tr style=\"text-align: right;\">\n",
       "      <th></th>\n",
       "      <th></th>\n",
       "      <th>category</th>\n",
       "      <th>mu</th>\n",
       "      <th>sigma</th>\n",
       "      <th>age_in_days</th>\n",
       "    </tr>\n",
       "    <tr>\n",
       "      <th>event_id</th>\n",
       "      <th>player_id</th>\n",
       "      <th></th>\n",
       "      <th></th>\n",
       "      <th></th>\n",
       "      <th></th>\n",
       "    </tr>\n",
       "  </thead>\n",
       "  <tbody>\n",
       "    <tr>\n",
       "      <th rowspan=\"2\" valign=\"top\">1</th>\n",
       "      <th>2</th>\n",
       "      <td>4d</td>\n",
       "      <td>NaN</td>\n",
       "      <td>NaN</td>\n",
       "      <td>NaN</td>\n",
       "    </tr>\n",
       "    <tr>\n",
       "      <th>1</th>\n",
       "      <td>13k</td>\n",
       "      <td>NaN</td>\n",
       "      <td>NaN</td>\n",
       "      <td>NaN</td>\n",
       "    </tr>\n",
       "    <tr>\n",
       "      <th rowspan=\"2\" valign=\"top\">2</th>\n",
       "      <th>2</th>\n",
       "      <td>4d</td>\n",
       "      <td>4.50000</td>\n",
       "      <td>1.059470</td>\n",
       "      <td>2.0</td>\n",
       "    </tr>\n",
       "    <tr>\n",
       "      <th>1</th>\n",
       "      <td>13k</td>\n",
       "      <td>-13.50000</td>\n",
       "      <td>2.191440</td>\n",
       "      <td>2.0</td>\n",
       "    </tr>\n",
       "    <tr>\n",
       "      <th>3</th>\n",
       "      <th>3</th>\n",
       "      <td>4k</td>\n",
       "      <td>NaN</td>\n",
       "      <td>NaN</td>\n",
       "      <td>NaN</td>\n",
       "    </tr>\n",
       "    <tr>\n",
       "      <th>...</th>\n",
       "      <th>...</th>\n",
       "      <td>...</td>\n",
       "      <td>...</td>\n",
       "      <td>...</td>\n",
       "      <td>...</td>\n",
       "    </tr>\n",
       "    <tr>\n",
       "      <th rowspan=\"5\" valign=\"top\">75</th>\n",
       "      <th>127</th>\n",
       "      <td>2k</td>\n",
       "      <td>-13.54990</td>\n",
       "      <td>0.635797</td>\n",
       "      <td>28.0</td>\n",
       "    </tr>\n",
       "    <tr>\n",
       "      <th>15</th>\n",
       "      <td>1k</td>\n",
       "      <td>-4.56389</td>\n",
       "      <td>0.224035</td>\n",
       "      <td>28.0</td>\n",
       "    </tr>\n",
       "    <tr>\n",
       "      <th>13</th>\n",
       "      <td>1d</td>\n",
       "      <td>-3.49404</td>\n",
       "      <td>0.223135</td>\n",
       "      <td>28.0</td>\n",
       "    </tr>\n",
       "    <tr>\n",
       "      <th>7</th>\n",
       "      <td>1d</td>\n",
       "      <td>1.78881</td>\n",
       "      <td>0.150843</td>\n",
       "      <td>28.0</td>\n",
       "    </tr>\n",
       "    <tr>\n",
       "      <th>216</th>\n",
       "      <td>2k</td>\n",
       "      <td>-18.03020</td>\n",
       "      <td>0.598793</td>\n",
       "      <td>28.0</td>\n",
       "    </tr>\n",
       "  </tbody>\n",
       "</table>\n",
       "<p>1498 rows × 4 columns</p>\n",
       "</div>"
      ],
      "text/plain": [
       "                   category        mu     sigma  age_in_days\n",
       "event_id player_id                                          \n",
       "1        2               4d       NaN       NaN          NaN\n",
       "         1              13k       NaN       NaN          NaN\n",
       "2        2               4d   4.50000  1.059470          2.0\n",
       "         1              13k -13.50000  2.191440          2.0\n",
       "3        3               4k       NaN       NaN          NaN\n",
       "...                     ...       ...       ...          ...\n",
       "75       127             2k -13.54990  0.635797         28.0\n",
       "         15              1k  -4.56389  0.224035         28.0\n",
       "         13              1d  -3.49404  0.223135         28.0\n",
       "         7               1d   1.78881  0.150843         28.0\n",
       "         216             2k -18.03020  0.598793         28.0\n",
       "\n",
       "[1498 rows x 4 columns]"
      ]
     },
     "execution_count": 58,
     "metadata": {},
     "output_type": "execute_result"
    }
   ],
   "source": [
    "df_priors = pd.read_csv(PRIORS_FILENAME, index_col=[\"event_id\", \"player_id\"])\n",
    "df_priors"
   ]
  },
  {
   "cell_type": "code",
   "execution_count": 78,
   "id": "65379831-d735-4c72-a246-ecffc29627b8",
   "metadata": {},
   "outputs": [
    {
     "data": {
      "text/html": [
       "<div>\n",
       "<style scoped>\n",
       "    .dataframe tbody tr th:only-of-type {\n",
       "        vertical-align: middle;\n",
       "    }\n",
       "\n",
       "    .dataframe tbody tr th {\n",
       "        vertical-align: top;\n",
       "    }\n",
       "\n",
       "    .dataframe thead th {\n",
       "        text-align: right;\n",
       "    }\n",
       "</style>\n",
       "<table border=\"1\" class=\"dataframe\">\n",
       "  <thead>\n",
       "    <tr style=\"text-align: right;\">\n",
       "      <th></th>\n",
       "      <th>evidence</th>\n",
       "      <th>black</th>\n",
       "      <th>white</th>\n",
       "      <th>handicap</th>\n",
       "      <th>komi</th>\n",
       "      <th>winner</th>\n",
       "      <th>day</th>\n",
       "      <th>start_date</th>\n",
       "      <th>event_id</th>\n",
       "      <th>category_black</th>\n",
       "      <th>...</th>\n",
       "      <th>sigma_black</th>\n",
       "      <th>age_in_days_black</th>\n",
       "      <th>category_white</th>\n",
       "      <th>mu_white</th>\n",
       "      <th>sigma_white</th>\n",
       "      <th>age_in_days_white</th>\n",
       "      <th>age_in_days</th>\n",
       "      <th>log10_evidence</th>\n",
       "      <th>category_mu_diff_black</th>\n",
       "      <th>category_mu_diff_white</th>\n",
       "    </tr>\n",
       "  </thead>\n",
       "  <tbody>\n",
       "    <tr>\n",
       "      <th>0</th>\n",
       "      <td>1.000000e+00</td>\n",
       "      <td>2</td>\n",
       "      <td>1</td>\n",
       "      <td>5</td>\n",
       "      <td>0.5</td>\n",
       "      <td>B</td>\n",
       "      <td>1</td>\n",
       "      <td>2012-06-26</td>\n",
       "      <td>1</td>\n",
       "      <td>4d</td>\n",
       "      <td>...</td>\n",
       "      <td>NaN</td>\n",
       "      <td>NaN</td>\n",
       "      <td>13k</td>\n",
       "      <td>NaN</td>\n",
       "      <td>NaN</td>\n",
       "      <td>NaN</td>\n",
       "      <td>0.0</td>\n",
       "      <td>-1.662168e-08</td>\n",
       "      <td>0.00000</td>\n",
       "      <td>0.00000</td>\n",
       "    </tr>\n",
       "    <tr>\n",
       "      <th>1</th>\n",
       "      <td>4.707918e-10</td>\n",
       "      <td>2</td>\n",
       "      <td>1</td>\n",
       "      <td>0</td>\n",
       "      <td>6.5</td>\n",
       "      <td>W</td>\n",
       "      <td>3</td>\n",
       "      <td>2012-06-28</td>\n",
       "      <td>2</td>\n",
       "      <td>4d</td>\n",
       "      <td>...</td>\n",
       "      <td>1.059470</td>\n",
       "      <td>2.0</td>\n",
       "      <td>13k</td>\n",
       "      <td>-13.50000</td>\n",
       "      <td>2.191440</td>\n",
       "      <td>2.0</td>\n",
       "      <td>4.0</td>\n",
       "      <td>-9.327171e+00</td>\n",
       "      <td>0.00000</td>\n",
       "      <td>0.00000</td>\n",
       "    </tr>\n",
       "    <tr>\n",
       "      <th>2</th>\n",
       "      <td>9.999924e-01</td>\n",
       "      <td>3</td>\n",
       "      <td>4</td>\n",
       "      <td>0</td>\n",
       "      <td>6.5</td>\n",
       "      <td>W</td>\n",
       "      <td>4</td>\n",
       "      <td>2012-06-29</td>\n",
       "      <td>3</td>\n",
       "      <td>4k</td>\n",
       "      <td>...</td>\n",
       "      <td>NaN</td>\n",
       "      <td>NaN</td>\n",
       "      <td>6d</td>\n",
       "      <td>NaN</td>\n",
       "      <td>NaN</td>\n",
       "      <td>NaN</td>\n",
       "      <td>0.0</td>\n",
       "      <td>-3.296334e-06</td>\n",
       "      <td>0.00000</td>\n",
       "      <td>0.00000</td>\n",
       "    </tr>\n",
       "    <tr>\n",
       "      <th>3</th>\n",
       "      <td>9.999949e-01</td>\n",
       "      <td>4</td>\n",
       "      <td>3</td>\n",
       "      <td>0</td>\n",
       "      <td>6.5</td>\n",
       "      <td>B</td>\n",
       "      <td>5</td>\n",
       "      <td>2012-06-30</td>\n",
       "      <td>4</td>\n",
       "      <td>6d</td>\n",
       "      <td>...</td>\n",
       "      <td>1.011180</td>\n",
       "      <td>1.0</td>\n",
       "      <td>8d</td>\n",
       "      <td>-4.49938</td>\n",
       "      <td>1.449990</td>\n",
       "      <td>1.0</td>\n",
       "      <td>2.0</td>\n",
       "      <td>-2.236598e-06</td>\n",
       "      <td>0.00009</td>\n",
       "      <td>12.99938</td>\n",
       "    </tr>\n",
       "    <tr>\n",
       "      <th>4</th>\n",
       "      <td>1.000000e+00</td>\n",
       "      <td>5</td>\n",
       "      <td>3</td>\n",
       "      <td>0</td>\n",
       "      <td>6.5</td>\n",
       "      <td>W</td>\n",
       "      <td>5</td>\n",
       "      <td>2012-06-30</td>\n",
       "      <td>4</td>\n",
       "      <td>27k</td>\n",
       "      <td>...</td>\n",
       "      <td>NaN</td>\n",
       "      <td>NaN</td>\n",
       "      <td>8d</td>\n",
       "      <td>-4.49938</td>\n",
       "      <td>1.449990</td>\n",
       "      <td>1.0</td>\n",
       "      <td>1.0</td>\n",
       "      <td>-1.732772e-08</td>\n",
       "      <td>0.00000</td>\n",
       "      <td>12.99938</td>\n",
       "    </tr>\n",
       "    <tr>\n",
       "      <th>...</th>\n",
       "      <td>...</td>\n",
       "      <td>...</td>\n",
       "      <td>...</td>\n",
       "      <td>...</td>\n",
       "      <td>...</td>\n",
       "      <td>...</td>\n",
       "      <td>...</td>\n",
       "      <td>...</td>\n",
       "      <td>...</td>\n",
       "      <td>...</td>\n",
       "      <td>...</td>\n",
       "      <td>...</td>\n",
       "      <td>...</td>\n",
       "      <td>...</td>\n",
       "      <td>...</td>\n",
       "      <td>...</td>\n",
       "      <td>...</td>\n",
       "      <td>...</td>\n",
       "      <td>...</td>\n",
       "      <td>...</td>\n",
       "      <td>...</td>\n",
       "    </tr>\n",
       "    <tr>\n",
       "      <th>3288</th>\n",
       "      <td>9.863069e-01</td>\n",
       "      <td>23</td>\n",
       "      <td>127</td>\n",
       "      <td>0</td>\n",
       "      <td>6.5</td>\n",
       "      <td>B</td>\n",
       "      <td>2862</td>\n",
       "      <td>2020-04-02</td>\n",
       "      <td>75</td>\n",
       "      <td>2k</td>\n",
       "      <td>...</td>\n",
       "      <td>0.330848</td>\n",
       "      <td>28.0</td>\n",
       "      <td>2k</td>\n",
       "      <td>-13.54990</td>\n",
       "      <td>0.635797</td>\n",
       "      <td>28.0</td>\n",
       "      <td>56.0</td>\n",
       "      <td>-5.987950e-03</td>\n",
       "      <td>8.32040</td>\n",
       "      <td>11.04990</td>\n",
       "    </tr>\n",
       "    <tr>\n",
       "      <th>3311</th>\n",
       "      <td>5.170775e-02</td>\n",
       "      <td>172</td>\n",
       "      <td>21</td>\n",
       "      <td>0</td>\n",
       "      <td>6.5</td>\n",
       "      <td>B</td>\n",
       "      <td>2862</td>\n",
       "      <td>2020-04-02</td>\n",
       "      <td>75</td>\n",
       "      <td>1k</td>\n",
       "      <td>...</td>\n",
       "      <td>0.530267</td>\n",
       "      <td>28.0</td>\n",
       "      <td>1k</td>\n",
       "      <td>-4.13001</td>\n",
       "      <td>0.300033</td>\n",
       "      <td>28.0</td>\n",
       "      <td>56.0</td>\n",
       "      <td>-1.286444e+00</td>\n",
       "      <td>4.70497</td>\n",
       "      <td>2.63001</td>\n",
       "    </tr>\n",
       "    <tr>\n",
       "      <th>3273</th>\n",
       "      <td>4.094425e-01</td>\n",
       "      <td>50</td>\n",
       "      <td>21</td>\n",
       "      <td>0</td>\n",
       "      <td>6.5</td>\n",
       "      <td>W</td>\n",
       "      <td>2862</td>\n",
       "      <td>2020-04-02</td>\n",
       "      <td>75</td>\n",
       "      <td>1k</td>\n",
       "      <td>...</td>\n",
       "      <td>0.290742</td>\n",
       "      <td>28.0</td>\n",
       "      <td>1k</td>\n",
       "      <td>-4.13001</td>\n",
       "      <td>0.300033</td>\n",
       "      <td>28.0</td>\n",
       "      <td>56.0</td>\n",
       "      <td>-3.878071e-01</td>\n",
       "      <td>2.45768</td>\n",
       "      <td>2.63001</td>\n",
       "    </tr>\n",
       "    <tr>\n",
       "      <th>3279</th>\n",
       "      <td>5.368918e-01</td>\n",
       "      <td>18</td>\n",
       "      <td>25</td>\n",
       "      <td>0</td>\n",
       "      <td>6.5</td>\n",
       "      <td>B</td>\n",
       "      <td>2862</td>\n",
       "      <td>2020-04-02</td>\n",
       "      <td>75</td>\n",
       "      <td>1k</td>\n",
       "      <td>...</td>\n",
       "      <td>0.292236</td>\n",
       "      <td>28.0</td>\n",
       "      <td>2k</td>\n",
       "      <td>-7.22124</td>\n",
       "      <td>0.253106</td>\n",
       "      <td>413.0</td>\n",
       "      <td>441.0</td>\n",
       "      <td>-2.701132e-01</td>\n",
       "      <td>5.70322</td>\n",
       "      <td>4.72124</td>\n",
       "    </tr>\n",
       "    <tr>\n",
       "      <th>3316</th>\n",
       "      <td>9.999995e-01</td>\n",
       "      <td>127</td>\n",
       "      <td>25</td>\n",
       "      <td>0</td>\n",
       "      <td>6.5</td>\n",
       "      <td>W</td>\n",
       "      <td>2862</td>\n",
       "      <td>2020-04-02</td>\n",
       "      <td>75</td>\n",
       "      <td>2k</td>\n",
       "      <td>...</td>\n",
       "      <td>0.635797</td>\n",
       "      <td>28.0</td>\n",
       "      <td>2k</td>\n",
       "      <td>-7.22124</td>\n",
       "      <td>0.253106</td>\n",
       "      <td>413.0</td>\n",
       "      <td>441.0</td>\n",
       "      <td>-2.347370e-07</td>\n",
       "      <td>11.04990</td>\n",
       "      <td>4.72124</td>\n",
       "    </tr>\n",
       "  </tbody>\n",
       "</table>\n",
       "<p>3318 rows × 21 columns</p>\n",
       "</div>"
      ],
      "text/plain": [
       "          evidence  black  white  handicap  komi winner   day  start_date  \\\n",
       "0     1.000000e+00      2      1         5   0.5      B     1  2012-06-26   \n",
       "1     4.707918e-10      2      1         0   6.5      W     3  2012-06-28   \n",
       "2     9.999924e-01      3      4         0   6.5      W     4  2012-06-29   \n",
       "3     9.999949e-01      4      3         0   6.5      B     5  2012-06-30   \n",
       "4     1.000000e+00      5      3         0   6.5      W     5  2012-06-30   \n",
       "...            ...    ...    ...       ...   ...    ...   ...         ...   \n",
       "3288  9.863069e-01     23    127         0   6.5      B  2862  2020-04-02   \n",
       "3311  5.170775e-02    172     21         0   6.5      B  2862  2020-04-02   \n",
       "3273  4.094425e-01     50     21         0   6.5      W  2862  2020-04-02   \n",
       "3279  5.368918e-01     18     25         0   6.5      B  2862  2020-04-02   \n",
       "3316  9.999995e-01    127     25         0   6.5      W  2862  2020-04-02   \n",
       "\n",
       "      event_id category_black  ...  sigma_black  age_in_days_black  \\\n",
       "0            1             4d  ...          NaN                NaN   \n",
       "1            2             4d  ...     1.059470                2.0   \n",
       "2            3             4k  ...          NaN                NaN   \n",
       "3            4             6d  ...     1.011180                1.0   \n",
       "4            4            27k  ...          NaN                NaN   \n",
       "...        ...            ...  ...          ...                ...   \n",
       "3288        75             2k  ...     0.330848               28.0   \n",
       "3311        75             1k  ...     0.530267               28.0   \n",
       "3273        75             1k  ...     0.290742               28.0   \n",
       "3279        75             1k  ...     0.292236               28.0   \n",
       "3316        75             2k  ...     0.635797               28.0   \n",
       "\n",
       "      category_white  mu_white  sigma_white  age_in_days_white  age_in_days  \\\n",
       "0                13k       NaN          NaN                NaN          0.0   \n",
       "1                13k -13.50000     2.191440                2.0          4.0   \n",
       "2                 6d       NaN          NaN                NaN          0.0   \n",
       "3                 8d  -4.49938     1.449990                1.0          2.0   \n",
       "4                 8d  -4.49938     1.449990                1.0          1.0   \n",
       "...              ...       ...          ...                ...          ...   \n",
       "3288              2k -13.54990     0.635797               28.0         56.0   \n",
       "3311              1k  -4.13001     0.300033               28.0         56.0   \n",
       "3273              1k  -4.13001     0.300033               28.0         56.0   \n",
       "3279              2k  -7.22124     0.253106              413.0        441.0   \n",
       "3316              2k  -7.22124     0.253106              413.0        441.0   \n",
       "\n",
       "      log10_evidence  category_mu_diff_black  category_mu_diff_white  \n",
       "0      -1.662168e-08                 0.00000                 0.00000  \n",
       "1      -9.327171e+00                 0.00000                 0.00000  \n",
       "2      -3.296334e-06                 0.00000                 0.00000  \n",
       "3      -2.236598e-06                 0.00009                12.99938  \n",
       "4      -1.732772e-08                 0.00000                12.99938  \n",
       "...              ...                     ...                     ...  \n",
       "3288   -5.987950e-03                 8.32040                11.04990  \n",
       "3311   -1.286444e+00                 4.70497                 2.63001  \n",
       "3273   -3.878071e-01                 2.45768                 2.63001  \n",
       "3279   -2.701132e-01                 5.70322                 4.72124  \n",
       "3316   -2.347370e-07                11.04990                 4.72124  \n",
       "\n",
       "[3318 rows x 21 columns]"
      ]
     },
     "execution_count": 78,
     "metadata": {},
     "output_type": "execute_result"
    }
   ],
   "source": [
    "df_join = df_evidence.join(df_matches, how=\"inner\") \\\n",
    "                     .join(df_priors, on=[\"event_id\", \"black\"], how=\"inner\", rsuffix=\"_black\") \\\n",
    "                     .join(df_priors, on=[\"event_id\", \"white\"], how=\"inner\", rsuffix=\"_white\") \\\n",
    "                     .rename(columns={\"category\": \"category_black\", \"mu\": \"mu_black\", \"sigma\": \"sigma_black\", \"age_in_days\": \"age_in_days_black\"})\n",
    "df_join[\"age_in_days\"] = df_join[\"age_in_days_black\"].fillna(value=0.0) + df_join[\"age_in_days_white\"].fillna(value=0.0)\n",
    "df_join[\"log10_evidence\"] = np.log10(df_join[\"evidence\"])\n",
    "\n",
    "\n",
    "def mu_by_category(category):\n",
    "    num = int(category[:-1])\n",
    "    rank = category[-1]\n",
    "    if rank.lower() == \"k\":\n",
    "        return -(num + 0.5)\n",
    "    if rank.lower() == \"d\":\n",
    "        return num + 0.5\n",
    "\n",
    "df_join[\"category_mu_diff_black\"] = np.abs(df_join[\"category_black\"].apply(mu_by_category) - df_join[\"mu_black\"]).fillna(value=0)\n",
    "df_join[\"category_mu_diff_white\"] = np.abs(df_join[\"category_white\"].apply(mu_by_category) - df_join[\"mu_white\"]).fillna(value=0)\n",
    "\n",
    "df_join"
   ]
  },
  {
   "cell_type": "code",
   "execution_count": 76,
   "id": "b5665c09-2f98-48cb-9cd7-72c50650f14f",
   "metadata": {},
   "outputs": [
    {
     "data": {
      "text/plain": [
       "<AxesSubplot:xlabel='handicap', ylabel='log10_evidence'>"
      ]
     },
     "execution_count": 76,
     "metadata": {},
     "output_type": "execute_result"
    },
    {
     "data": {
      "image/png": "[encoded data removed]",
      "text/plain": [
       "<Figure size 432x288 with 1 Axes>"
      ]
     },
     "metadata": {
      "needs_background": "light"
     },
     "output_type": "display_data"
    }
   ],
   "source": [
    "# sns.countplot(data=df_join[df_join[\"evidence\"] <1e-4], x=\"handicap\")\n",
    "# sns.histplot(data=df_join, x=\"evidence\", hue=\"handicap\", bins=20, log_scale=(True,True), palette=\"tab10\", multiple=\"stack\")\n",
    "sns.boxplot(data=df_join, x=\"handicap\", y=\"log10_evidence\")"
   ]
  },
  {
   "cell_type": "code",
   "execution_count": 45,
   "id": "d8121c76-ab83-4cf1-b889-efe5572f9b23",
   "metadata": {},
   "outputs": [
    {
     "data": {
      "text/plain": [
       "<AxesSubplot:xlabel='winner', ylabel='log10_evidence'>"
      ]
     },
     "execution_count": 45,
     "metadata": {},
     "output_type": "execute_result"
    },
    {
     "data": {
      "image/png": "[encoded data removed]",
      "text/plain": [
       "<Figure size 432x288 with 1 Axes>"
      ]
     },
     "metadata": {
      "needs_background": "light"
     },
     "output_type": "display_data"
    }
   ],
   "source": [
    "sns.boxplot(data=df_join, x=\"winner\", y=\"log10_evidence\")"
   ]
  },
  {
   "cell_type": "code",
   "execution_count": 53,
   "id": "6509608d-1774-4314-92da-e9ad118fc5f3",
   "metadata": {},
   "outputs": [
    {
     "data": {
      "text/plain": [
       "<AxesSubplot:xlabel='event_id', ylabel='count'>"
      ]
     },
     "execution_count": 53,
     "metadata": {},
     "output_type": "execute_result"
    },
    {
     "data": {
      "image/png": "[encoded data removed]",
      "text/plain": [
       "<Figure size 432x288 with 1 Axes>"
      ]
     },
     "metadata": {
      "needs_background": "light"
     },
     "output_type": "display_data"
    }
   ],
   "source": [
    "sns.countplot(data=df_join[df_join[\"log10_evidence\"] < -5], x=\"event_id\")"
   ]
  },
  {
   "cell_type": "code",
   "execution_count": 75,
   "id": "51097367-b4a9-407a-841b-03d67271b7e6",
   "metadata": {},
   "outputs": [
    {
     "data": {
      "text/plain": [
       "<AxesSubplot:xlabel='age_in_days', ylabel='log10_evidence'>"
      ]
     },
     "execution_count": 75,
     "metadata": {},
     "output_type": "execute_result"
    },
    {
     "data": {
      "image/png": "[encoded data removed]",
      "text/plain": [
       "<Figure size 432x288 with 1 Axes>"
      ]
     },
     "metadata": {
      "needs_background": "light"
     },
     "output_type": "display_data"
    }
   ],
   "source": [
    "sns.scatterplot(data=df_join, x=\"age_in_days\", y=\"log10_evidence\")"
   ]
  },
  {
   "cell_type": "code",
   "execution_count": 79,
   "id": "3335b630-8395-43ad-a87f-479a75b91970",
   "metadata": {},
   "outputs": [
    {
     "data": {
      "text/plain": [
       "<AxesSubplot:xlabel='category_mu_diff_black', ylabel='log10_evidence'>"
      ]
     },
     "execution_count": 79,
     "metadata": {},
     "output_type": "execute_result"
    },
    {
     "data": {
      "image/png": "[encoded data removed]",
      "text/plain": [
       "<Figure size 432x288 with 1 Axes>"
      ]
     },
     "metadata": {
      "needs_background": "light"
     },
     "output_type": "display_data"
    }
   ],
   "source": [
    "sns.scatterplot(data=df_join, x=\"category_mu_diff_black\", y=\"log10_evidence\")"
   ]
  },
  {
   "cell_type": "code",
   "execution_count": 80,
   "id": "70c95079-4224-456a-9566-11ad75a616bb",
   "metadata": {},
   "outputs": [
    {
     "data": {
      "text/plain": [
       "<AxesSubplot:xlabel='category_mu_diff_white', ylabel='log10_evidence'>"
      ]
     },
     "execution_count": 80,
     "metadata": {},
     "output_type": "execute_result"
    },
    {
     "data": {
      "image/png": "[encoded data removed]",
      "text/plain": [
       "<Figure size 432x288 with 1 Axes>"
      ]
     },
     "metadata": {
      "needs_background": "light"
     },
     "output_type": "display_data"
    }
   ],
   "source": [
    "sns.scatterplot(data=df_join, x=\"category_mu_diff_white\", y=\"log10_evidence\")"
   ]
  },
  {
   "cell_type": "code",
   "execution_count": null,
   "id": "0324e8a9-f3d2-4788-b728-f97b661aba8b",
   "metadata": {},
   "outputs": [],
   "source": []
  }
 ],
 "metadata": {
  "kernelspec": {
   "display_name": "Python 3 (ipykernel)",
   "language": "python",
   "name": "python3"
  },
  "language_info": {
   "codemirror_mode": {
    "name": "ipython",
    "version": 3
   },
   "file_extension": ".py",
   "mimetype": "text/x-python",
   "name": "python",
   "nbconvert_exporter": "python",
   "pygments_lexer": "ipython3",
   "version": "3.10.4"
  }
 },
 "nbformat": 4,
 "nbformat_minor": 5
}
