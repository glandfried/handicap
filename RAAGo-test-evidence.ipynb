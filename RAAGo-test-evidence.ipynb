{
 "cells": [
  {
   "cell_type": "code",
   "execution_count": null,
   "id": "fa5d641f-e534-47a0-9228-22ed09e1642f",
   "metadata": {},
   "outputs": [],
   "source": [
    "import pandas as pd\n",
    "import numpy as np\n",
    "import matplotlib.pyplot as plt\n",
    "import seaborn as sns\n",
    "import math"
   ]
  },
  {
   "cell_type": "code",
   "execution_count": null,
   "id": "d1c99bab-142c-4aaf-96b5-6080c90c706d",
   "metadata": {},
   "outputs": [],
   "source": [
    "EVIDENCE_FILENAME = \"estimations/raago_tobi/prior_evidence_dynamic_time.csv\"\n",
    "MATCHES_FILENAME = \"data/aago/aago_original_filtered.adapted.csv\"\n",
    "PRIORS_FILENAME = \"estimations/raago_tobi/priors.csv\""
   ]
  },
  {
   "cell_type": "code",
   "execution_count": null,
   "id": "5beb100d-4967-4599-8c69-6e10af91b831",
   "metadata": {},
   "outputs": [],
   "source": [
    "df_evidence = pd.read_csv(EVIDENCE_FILENAME, index_col=\"match_id\")\n",
    "df_evidence"
   ]
  },
  {
   "cell_type": "code",
   "execution_count": null,
   "id": "110b5037-390f-486f-863e-9128f2cf8133",
   "metadata": {},
   "outputs": [],
   "source": [
    "sns.histplot(data=df_evidence, x=\"evidence\", bins=50, log_scale=(True,True))"
   ]
  },
  {
   "cell_type": "code",
   "execution_count": null,
   "id": "4d729b38-3fe0-4b74-bca3-926d5442f24d",
   "metadata": {},
   "outputs": [],
   "source": [
    "len(df_evidence[df_evidence[\"evidence\"] > 0.5]) / len(df_evidence)"
   ]
  },
  {
   "cell_type": "code",
   "execution_count": null,
   "id": "f53bc8b3-8ddb-4b09-91f2-ede3a93b1795",
   "metadata": {},
   "outputs": [],
   "source": [
    "def geometric_mean(data):\n",
    "    return math.exp(np.log(data).mean())"
   ]
  },
  {
   "cell_type": "code",
   "execution_count": null,
   "id": "3ee9fb73-65b1-4f16-a0d9-1bf21cb63e85",
   "metadata": {},
   "outputs": [],
   "source": [
    "geometric_mean(df_evidence[\"evidence\"])"
   ]
  },
  {
   "cell_type": "code",
   "execution_count": null,
   "id": "5a22b9a2-d082-4ae4-8d40-026ef17082af",
   "metadata": {},
   "outputs": [],
   "source": [
    "df_matches = pd.read_csv(MATCHES_FILENAME, index_col=\"id\")\n",
    "df_matches"
   ]
  },
  {
   "cell_type": "code",
   "execution_count": null,
   "id": "58adf1bb-eb74-4f70-92f4-8c6e1d96da5c",
   "metadata": {},
   "outputs": [],
   "source": [
    "df_priors = pd.read_csv(PRIORS_FILENAME, index_col=[\"event_id\", \"player_id\"])\n",
    "df_priors"
   ]
  },
  {
   "cell_type": "code",
   "execution_count": null,
   "id": "65379831-d735-4c72-a246-ecffc29627b8",
   "metadata": {},
   "outputs": [],
   "source": [
    "df_join = df_evidence.join(df_matches, how=\"inner\") \\\n",
    "                     .join(df_priors, on=[\"event_id\", \"black\"], how=\"inner\", rsuffix=\"_black\") \\\n",
    "                     .join(df_priors, on=[\"event_id\", \"white\"], how=\"inner\", rsuffix=\"_white\") \\\n",
    "                     .rename(columns={\"category\": \"category_black\", \"mu\": \"mu_black\", \"sigma\": \"sigma_black\", \"age_in_days\": \"age_in_days_black\"})\n",
    "df_join[\"age_in_days\"] = df_join[\"age_in_days_black\"].fillna(value=0.0) + df_join[\"age_in_days_white\"].fillna(value=0.0)\n",
    "df_join[\"log10_evidence\"] = np.log10(df_join[\"evidence\"])\n",
    "\n",
    "\n",
    "def mu_by_category(category):\n",
    "    num = int(category[:-1])\n",
    "    rank = category[-1]\n",
    "    if rank.lower() == \"k\":\n",
    "        return -(num + 0.5)\n",
    "    if rank.lower() == \"d\":\n",
    "        return num + 0.5\n",
    "\n",
    "df_join[\"category_mu_diff_black\"] = np.abs(df_join[\"category_black\"].apply(mu_by_category) - df_join[\"mu_black\"]).fillna(value=0)\n",
    "df_join[\"category_mu_diff_white\"] = np.abs(df_join[\"category_white\"].apply(mu_by_category) - df_join[\"mu_white\"]).fillna(value=0)\n",
    "\n",
    "df_join"
   ]
  },
  {
   "cell_type": "code",
   "execution_count": null,
   "id": "b5665c09-2f98-48cb-9cd7-72c50650f14f",
   "metadata": {},
   "outputs": [],
   "source": [
    "# sns.countplot(data=df_join[df_join[\"evidence\"] <1e-4], x=\"handicap\")\n",
    "# sns.histplot(data=df_join, x=\"evidence\", hue=\"handicap\", bins=20, log_scale=(True,True), palette=\"tab10\", multiple=\"stack\")\n",
    "sns.boxplot(data=df_join, x=\"handicap\", y=\"log10_evidence\")"
   ]
  },
  {
   "cell_type": "code",
   "execution_count": null,
   "id": "381f5ee5-ed35-4e74-91f2-853f13533a44",
   "metadata": {},
   "outputs": [],
   "source": [
    "sns.countplot(data=df_join[df_join[\"log10_evidence\"] < -2], x=\"handicap\")"
   ]
  },
  {
   "cell_type": "code",
   "execution_count": null,
   "id": "aa627d24-a483-4a89-bd5c-e66e26d49fe0",
   "metadata": {},
   "outputs": [],
   "source": [
    "sns.countplot(data=df_join, x=\"handicap\")"
   ]
  },
  {
   "cell_type": "code",
   "execution_count": null,
   "id": "d8121c76-ab83-4cf1-b889-efe5572f9b23",
   "metadata": {},
   "outputs": [],
   "source": [
    "sns.boxplot(data=df_join, x=\"winner\", y=\"log10_evidence\")"
   ]
  },
  {
   "cell_type": "code",
   "execution_count": null,
   "id": "96dc8ad3-ca77-440c-a5c8-982b0cb22d31",
   "metadata": {},
   "outputs": [],
   "source": [
    "sns.countplot(data=df_join[df_join[\"log10_evidence\"] < -2], x=\"winner\")"
   ]
  },
  {
   "cell_type": "code",
   "execution_count": null,
   "id": "6509608d-1774-4314-92da-e9ad118fc5f3",
   "metadata": {},
   "outputs": [],
   "source": [
    "sns.countplot(data=df_join[df_join[\"log10_evidence\"] < -4], x=\"event_id\")\n",
    "len(df_join[df_join[\"event_id\"] == 69])"
   ]
  },
  {
   "cell_type": "code",
   "execution_count": null,
   "id": "51097367-b4a9-407a-841b-03d67271b7e6",
   "metadata": {},
   "outputs": [],
   "source": [
    "sns.scatterplot(data=df_join, x=\"age_in_days\", y=\"log10_evidence\")"
   ]
  },
  {
   "cell_type": "code",
   "execution_count": null,
   "id": "3335b630-8395-43ad-a87f-479a75b91970",
   "metadata": {},
   "outputs": [],
   "source": [
    "sns.scatterplot(data=df_join, x=\"category_mu_diff_black\", y=\"log10_evidence\")"
   ]
  },
  {
   "cell_type": "code",
   "execution_count": null,
   "id": "70c95079-4224-456a-9566-11ad75a616bb",
   "metadata": {},
   "outputs": [],
   "source": [
    "sns.scatterplot(data=df_join, x=\"category_mu_diff_white\", y=\"log10_evidence\")"
   ]
  },
  {
   "cell_type": "code",
   "execution_count": null,
   "id": "0324e8a9-f3d2-4788-b728-f97b661aba8b",
   "metadata": {},
   "outputs": [],
   "source": [
    "df_join[df_join[\"log10_evidence\"] < -8][[\"winner\", \"handicap\", \"category_black\", \"category_white\", \"mu_black\",\"sigma_black\",\"mu_white\",\"sigma_white\"]]"
   ]
  },
  {
   "cell_type": "code",
   "execution_count": null,
   "id": "c9ed54e8-850a-4a5d-9fd0-96879662255a",
   "metadata": {},
   "outputs": [],
   "source": [
    "sns.countplot(data=df_join[df_join[\"log10_evidence\"] < -4], x=\"black\")"
   ]
  },
  {
   "cell_type": "code",
   "execution_count": null,
   "id": "be9999fe-1c66-439d-a0f9-8159ab276aab",
   "metadata": {},
   "outputs": [],
   "source": []
  }
 ],
 "metadata": {
  "kernelspec": {
   "display_name": "Python 3 (ipykernel)",
   "language": "python",
   "name": "python3"
  },
  "language_info": {
   "codemirror_mode": {
    "name": "ipython",
    "version": 3
   },
   "file_extension": ".py",
   "mimetype": "text/x-python",
   "name": "python",
   "nbconvert_exporter": "python",
   "pygments_lexer": "ipython3",
   "version": "3.10.5"
  }
 },
 "nbformat": 4,
 "nbformat_minor": 5
}
