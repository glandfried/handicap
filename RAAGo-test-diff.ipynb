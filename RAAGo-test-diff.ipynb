{
 "cells": [
  {
   "cell_type": "code",
   "execution_count": null,
   "id": "a0038ac3-83b9-4a0c-86d7-3c0633a07ebf",
   "metadata": {},
   "outputs": [],
   "source": [
    "import pandas as pd"
   ]
  },
  {
   "cell_type": "markdown",
   "id": "879c66fc-1c97-45cc-9e59-5836eb6ae3c3",
   "metadata": {
    "tags": []
   },
   "source": [
    "# Diferencia en el orden de eventos"
   ]
  },
  {
   "cell_type": "code",
   "execution_count": null,
   "id": "6a3217b5-9a7e-4f2d-b1b4-ad8186acb00d",
   "metadata": {},
   "outputs": [],
   "source": [
    "df_matches = pd.read_csv(\"data/aago/aago_original_filtered.csv\")\n",
    "df_matches[\"event_id\"].unique()"
   ]
  },
  {
   "cell_type": "code",
   "execution_count": null,
   "id": "e0f71050-5dde-406f-8d1e-7f51cbb9177c",
   "metadata": {},
   "outputs": [],
   "source": [
    "df_raago = pd.read_csv(\"data/aago/raago.csv\",\n",
    "                       names=[\"id\", \"mu\", \"sigma\", \"event_id\", \"player\"])\n",
    "df_raago[\"event_id\"].unique()"
   ]
  },
  {
   "cell_type": "code",
   "execution_count": null,
   "id": "b6654f97-518b-49d8-9328-105c1a490417",
   "metadata": {},
   "outputs": [],
   "source": [
    "(df_matches[\"event_id\"].unique() == df_raago[\"event_id\"].unique()).all()"
   ]
  },
  {
   "cell_type": "markdown",
   "id": "0af06807-ac74-44b6-8358-7013be4d1bd6",
   "metadata": {},
   "source": [
    "# Diferencia entre las estimaciones"
   ]
  },
  {
   "cell_type": "code",
   "execution_count": null,
   "id": "5624b028-9915-420e-a90c-7464f4b95b2a",
   "metadata": {},
   "outputs": [],
   "source": [
    "df = pd.read_csv(\"estimations/raago_tobi/posteriors.csv\", index_col=['event_id','player']).sort_index()\n",
    "df"
   ]
  },
  {
   "cell_type": "code",
   "execution_count": null,
   "id": "fb03930b-c455-497f-9a2c-40910ff1d6d6",
   "metadata": {},
   "outputs": [],
   "source": [
    "df_original = pd.read_csv(\"data/aago/raago.csv\",\n",
    "                          names=[\"id\", \"mu\", \"sigma\", \"event_id\", \"player\"],\n",
    "                          index_col=['event_id','player']).sort_index()\n",
    "df_original"
   ]
  },
  {
   "cell_type": "code",
   "execution_count": null,
   "id": "5f602438-ff01-4f07-a935-b3dae56913a9",
   "metadata": {},
   "outputs": [],
   "source": [
    "dfj = df.join(df_original, how=\"inner\", rsuffix=\"_original\")\n",
    "dfj"
   ]
  },
  {
   "cell_type": "code",
   "execution_count": null,
   "id": "d407defc-8e62-4140-ba05-69fda066bf1c",
   "metadata": {},
   "outputs": [],
   "source": [
    "dfj[\"mu_diff\"] = dfj[\"mu\"] - dfj[\"mu_original\"]\n",
    "dfj[\"mu_diff\"].describe()"
   ]
  },
  {
   "cell_type": "code",
   "execution_count": null,
   "id": "a1b9c1b3-5f99-46a5-ba24-db11793f096e",
   "metadata": {},
   "outputs": [],
   "source": [
    "dfj[\"sigma_diff\"] = dfj[\"sigma\"] - dfj[\"sigma_original\"]\n",
    "dfj[\"sigma_diff\"].describe()"
   ]
  },
  {
   "cell_type": "code",
   "execution_count": null,
   "id": "a4be1a50-86f4-4706-8bcf-ed4049fadf26",
   "metadata": {},
   "outputs": [],
   "source": [
    "dfj[abs(dfj[\"mu_diff\"]) > 0.001]"
   ]
  },
  {
   "cell_type": "code",
   "execution_count": null,
   "id": "18383578-f522-4379-aec0-483e4c463ffe",
   "metadata": {},
   "outputs": [],
   "source": [
    "dfjr = dfj.reset_index()\n",
    "dfjr[dfjr[\"player\"] == 26]"
   ]
  },
  {
   "cell_type": "code",
   "execution_count": null,
   "id": "60b35be2-ef88-4c50-bfba-a88e4b95bd42",
   "metadata": {},
   "outputs": [],
   "source": []
  }
 ],
 "metadata": {
  "kernelspec": {
   "display_name": "Python 3 (ipykernel)",
   "language": "python",
   "name": "python3"
  },
  "language_info": {
   "codemirror_mode": {
    "name": "ipython",
    "version": 3
   },
   "file_extension": ".py",
   "mimetype": "text/x-python",
   "name": "python",
   "nbconvert_exporter": "python",
   "pygments_lexer": "ipython3",
   "version": "3.10.4"
  }
 },
 "nbformat": 4,
 "nbformat_minor": 5
}
