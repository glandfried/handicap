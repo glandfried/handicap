{
 "cells": [
  {
   "cell_type": "code",
   "execution_count": 1,
   "metadata": {},
   "outputs": [],
   "source": [
    "import pandas as pd\n",
    "import matplotlib.pyplot as plt\n",
    "from math import log"
   ]
  },
  {
   "cell_type": "code",
   "execution_count": null,
   "metadata": {},
   "outputs": [],
   "source": []
  },
  {
   "cell_type": "code",
   "execution_count": 2,
   "metadata": {},
   "outputs": [],
   "source": [
    "#df = pd.read_csv('log_evidence.txt')\n",
    "hk = pd.read_csv('log_ev.csv')\n"
   ]
  },
  {
   "cell_type": "code",
   "execution_count": 3,
   "metadata": {},
   "outputs": [
    {
     "data": {
      "text/plain": [
       "0      -4.520232e-07\n",
       "1      -1.161890e+01\n",
       "2      -2.878219e-08\n",
       "3      -2.881368e-08\n",
       "4      -4.448193e-09\n",
       "            ...     \n",
       "3313   -1.326734e-01\n",
       "3314   -1.423885e-01\n",
       "3315   -4.197542e-02\n",
       "3316   -8.462716e-03\n",
       "3317   -7.789232e-05\n",
       "Name: evidence, Length: 3318, dtype: float64"
      ]
     },
     "execution_count": 3,
     "metadata": {},
     "output_type": "execute_result"
    }
   ],
   "source": [
    "log_ev = (hk['evidence']).apply(lambda x : log(x,10))\n",
    "log_ev"
   ]
  },
  {
   "cell_type": "code",
   "execution_count": 4,
   "metadata": {},
   "outputs": [],
   "source": [
    "log_sin_handic = (hk[hk['handicap']<3]['evidence']).apply(lambda x : log(x,10))\n"
   ]
  },
  {
   "cell_type": "code",
   "execution_count": 23,
   "metadata": {},
   "outputs": [
    {
     "data": {
      "image/png": "[encoded data removed]",
      "text/plain": [
       "<Figure size 720x576 with 1 Axes>"
      ]
     },
     "metadata": {
      "needs_background": "light"
     },
     "output_type": "display_data"
    }
   ],
   "source": [
    "#FIGURA 1\n",
    "plt.figure(figsize=(10,8)) \n",
    "plt.hist(log_ev,25, log = True)\n",
    "#plt.xscale('log')\n",
    "plt.hlines(10,-75,0, colors='grey',linestyle='dotted')\n",
    "plt.hlines(100,-75,0, colors='grey',linestyle='dotted')\n",
    "plt.hlines(1000,-75,0, colors='grey',linestyle='dotted')\n",
    "plt.show()\n",
    "#, bins=[0,0.01,0.99,1]"
   ]
  },
  {
   "cell_type": "code",
   "execution_count": 11,
   "metadata": {},
   "outputs": [
    {
     "data": {
      "text/plain": [
       "(array([595.,  27.,  16.,  15.,  12.,  14.,  11.,   8.,  13.,  16.,  13.,\n",
       "         11.,  10.,   6.,  12.,   8.,   7.,  11.,  10.,   9.,  11.,  12.,\n",
       "         14.,   8.,  12.,  13.,  20.,   8.,  11.,   8.,   3.,  11.,  14.,\n",
       "          9.,  15.,   8.,   8.,  17.,  14.,  16.,  19.,  19.,  12.,  24.,\n",
       "         13.,  11.,  17.,  18.,  37.,  25.,  45.,  18.,  16.,  30.,  25.,\n",
       "         23.,  30.,  21.,  21.,  18.,  29.,  19.,  16.,  15.,  19.,  21.,\n",
       "         11.,  10.,  20.,  15.,  23.,  18.,  16.,  22.,  10.,   9.,  17.,\n",
       "         12.,  16.,   9.,  16.,  16.,  14.,  22.,  14.,  17.,  19.,  28.,\n",
       "         25.,  21.,  26.,  28.,  35.,  26.,  23.,  42.,  48.,  50.,  75.,\n",
       "        948.]),\n",
       " array([1.48892589e-76, 9.99999992e-03, 1.99999998e-02, 2.99999998e-02,\n",
       "        3.99999997e-02, 4.99999996e-02, 5.99999995e-02, 6.99999994e-02,\n",
       "        7.99999994e-02, 8.99999993e-02, 9.99999992e-02, 1.09999999e-01,\n",
       "        1.19999999e-01, 1.29999999e-01, 1.39999999e-01, 1.49999999e-01,\n",
       "        1.59999999e-01, 1.69999999e-01, 1.79999999e-01, 1.89999998e-01,\n",
       "        1.99999998e-01, 2.09999998e-01, 2.19999998e-01, 2.29999998e-01,\n",
       "        2.39999998e-01, 2.49999998e-01, 2.59999998e-01, 2.69999998e-01,\n",
       "        2.79999998e-01, 2.89999998e-01, 2.99999998e-01, 3.09999998e-01,\n",
       "        3.19999997e-01, 3.29999997e-01, 3.39999997e-01, 3.49999997e-01,\n",
       "        3.59999997e-01, 3.69999997e-01, 3.79999997e-01, 3.89999997e-01,\n",
       "        3.99999997e-01, 4.09999997e-01, 4.19999997e-01, 4.29999997e-01,\n",
       "        4.39999996e-01, 4.49999996e-01, 4.59999996e-01, 4.69999996e-01,\n",
       "        4.79999996e-01, 4.89999996e-01, 4.99999996e-01, 5.09999996e-01,\n",
       "        5.19999996e-01, 5.29999996e-01, 5.39999996e-01, 5.49999996e-01,\n",
       "        5.59999996e-01, 5.69999995e-01, 5.79999995e-01, 5.89999995e-01,\n",
       "        5.99999995e-01, 6.09999995e-01, 6.19999995e-01, 6.29999995e-01,\n",
       "        6.39999995e-01, 6.49999995e-01, 6.59999995e-01, 6.69999995e-01,\n",
       "        6.79999995e-01, 6.89999994e-01, 6.99999994e-01, 7.09999994e-01,\n",
       "        7.19999994e-01, 7.29999994e-01, 7.39999994e-01, 7.49999994e-01,\n",
       "        7.59999994e-01, 7.69999994e-01, 7.79999994e-01, 7.89999994e-01,\n",
       "        7.99999994e-01, 8.09999994e-01, 8.19999993e-01, 8.29999993e-01,\n",
       "        8.39999993e-01, 8.49999993e-01, 8.59999993e-01, 8.69999993e-01,\n",
       "        8.79999993e-01, 8.89999993e-01, 8.99999993e-01, 9.09999993e-01,\n",
       "        9.19999993e-01, 9.29999993e-01, 9.39999993e-01, 9.49999992e-01,\n",
       "        9.59999992e-01, 9.69999992e-01, 9.79999992e-01, 9.89999992e-01,\n",
       "        9.99999992e-01]),\n",
       " <BarContainer object of 100 artists>)"
      ]
     },
     "execution_count": 11,
     "metadata": {},
     "output_type": "execute_result"
    },
    {
     "data": {
      "image/png": "[encoded data removed]",
      "text/plain": [
       "<Figure size 1080x720 with 1 Axes>"
      ]
     },
     "metadata": {
      "needs_background": "light"
     },
     "output_type": "display_data"
    }
   ],
   "source": [
    "plt.figure(figsize=(15,10)) \n",
    "plt.hist(hk['evidence'],100, log = False)\n",
    "#plt.xscale('log')\n",
    "#plt.hlines(10,-75,0, colors='Red')\n",
    "#plt.show()\n",
    "#, bins=[0,0.01,0.99,1]"
   ]
  },
  {
   "cell_type": "code",
   "execution_count": 16,
   "metadata": {},
   "outputs": [
    {
     "name": "stdout",
     "output_type": "stream",
     "text": [
      "evidence    163\n",
      "handicap    163\n",
      "komi        163\n",
      "w_id        163\n",
      "w_mu        163\n",
      "w_cat       163\n",
      "l_id        163\n",
      "l_mu        163\n",
      "l_cat       163\n",
      "dtype: int64\n"
     ]
    },
    {
     "data": {
      "text/html": [
       "<div>\n",
       "<style scoped>\n",
       "    .dataframe tbody tr th:only-of-type {\n",
       "        vertical-align: middle;\n",
       "    }\n",
       "\n",
       "    .dataframe tbody tr th {\n",
       "        vertical-align: top;\n",
       "    }\n",
       "\n",
       "    .dataframe thead th {\n",
       "        text-align: right;\n",
       "    }\n",
       "</style>\n",
       "<table border=\"1\" class=\"dataframe\">\n",
       "  <thead>\n",
       "    <tr style=\"text-align: right;\">\n",
       "      <th></th>\n",
       "      <th>evidence</th>\n",
       "      <th>handicap</th>\n",
       "      <th>komi</th>\n",
       "      <th>w_id</th>\n",
       "      <th>w_mu</th>\n",
       "      <th>w_cat</th>\n",
       "      <th>l_id</th>\n",
       "      <th>l_mu</th>\n",
       "      <th>l_cat</th>\n",
       "    </tr>\n",
       "  </thead>\n",
       "  <tbody>\n",
       "    <tr>\n",
       "      <th>909</th>\n",
       "      <td>1.488926e-76</td>\n",
       "      <td>9</td>\n",
       "      <td>0.5</td>\n",
       "      <td>93</td>\n",
       "      <td>-20.4490</td>\n",
       "      <td>21k</td>\n",
       "      <td>6</td>\n",
       "      <td>3.69153</td>\n",
       "      <td>3d</td>\n",
       "    </tr>\n",
       "    <tr>\n",
       "      <th>2386</th>\n",
       "      <td>5.294057e-73</td>\n",
       "      <td>9</td>\n",
       "      <td>0.5</td>\n",
       "      <td>175</td>\n",
       "      <td>-16.7803</td>\n",
       "      <td>15k</td>\n",
       "      <td>79</td>\n",
       "      <td>1.88501</td>\n",
       "      <td>1d</td>\n",
       "    </tr>\n",
       "    <tr>\n",
       "      <th>1119</th>\n",
       "      <td>3.912408e-65</td>\n",
       "      <td>9</td>\n",
       "      <td>0.5</td>\n",
       "      <td>105</td>\n",
       "      <td>-14.7311</td>\n",
       "      <td>14k</td>\n",
       "      <td>79</td>\n",
       "      <td>2.56151</td>\n",
       "      <td>2d</td>\n",
       "    </tr>\n",
       "    <tr>\n",
       "      <th>1579</th>\n",
       "      <td>4.196149e-64</td>\n",
       "      <td>9</td>\n",
       "      <td>0.5</td>\n",
       "      <td>105</td>\n",
       "      <td>-13.5640</td>\n",
       "      <td>14k</td>\n",
       "      <td>49</td>\n",
       "      <td>2.33351</td>\n",
       "      <td>2d</td>\n",
       "    </tr>\n",
       "    <tr>\n",
       "      <th>804</th>\n",
       "      <td>6.499267e-59</td>\n",
       "      <td>9</td>\n",
       "      <td>0.5</td>\n",
       "      <td>85</td>\n",
       "      <td>-13.8549</td>\n",
       "      <td>14k</td>\n",
       "      <td>7</td>\n",
       "      <td>1.77655</td>\n",
       "      <td>1d</td>\n",
       "    </tr>\n",
       "    <tr>\n",
       "      <th>539</th>\n",
       "      <td>1.038260e-56</td>\n",
       "      <td>9</td>\n",
       "      <td>0.5</td>\n",
       "      <td>85</td>\n",
       "      <td>-15.6921</td>\n",
       "      <td>15k</td>\n",
       "      <td>7</td>\n",
       "      <td>2.25229</td>\n",
       "      <td>1d</td>\n",
       "    </tr>\n",
       "    <tr>\n",
       "      <th>1023</th>\n",
       "      <td>1.049710e-55</td>\n",
       "      <td>9</td>\n",
       "      <td>0.5</td>\n",
       "      <td>107</td>\n",
       "      <td>-11.4913</td>\n",
       "      <td>11k</td>\n",
       "      <td>32</td>\n",
       "      <td>3.49994</td>\n",
       "      <td>3d</td>\n",
       "    </tr>\n",
       "    <tr>\n",
       "      <th>1098</th>\n",
       "      <td>2.162684e-53</td>\n",
       "      <td>9</td>\n",
       "      <td>0.5</td>\n",
       "      <td>85</td>\n",
       "      <td>-12.3815</td>\n",
       "      <td>12k</td>\n",
       "      <td>7</td>\n",
       "      <td>1.56517</td>\n",
       "      <td>1d</td>\n",
       "    </tr>\n",
       "    <tr>\n",
       "      <th>2389</th>\n",
       "      <td>1.802835e-50</td>\n",
       "      <td>9</td>\n",
       "      <td>0.5</td>\n",
       "      <td>175</td>\n",
       "      <td>-16.7803</td>\n",
       "      <td>15k</td>\n",
       "      <td>16</td>\n",
       "      <td>-2.96764</td>\n",
       "      <td>3k</td>\n",
       "    </tr>\n",
       "    <tr>\n",
       "      <th>1366</th>\n",
       "      <td>1.176188e-49</td>\n",
       "      <td>9</td>\n",
       "      <td>0.5</td>\n",
       "      <td>126</td>\n",
       "      <td>-15.3612</td>\n",
       "      <td>15k</td>\n",
       "      <td>14</td>\n",
       "      <td>-2.49809</td>\n",
       "      <td>2k</td>\n",
       "    </tr>\n",
       "  </tbody>\n",
       "</table>\n",
       "</div>"
      ],
      "text/plain": [
       "          evidence  handicap  komi  w_id     w_mu w_cat  l_id     l_mu l_cat\n",
       "909   1.488926e-76         9   0.5    93 -20.4490   21k     6  3.69153    3d\n",
       "2386  5.294057e-73         9   0.5   175 -16.7803   15k    79  1.88501    1d\n",
       "1119  3.912408e-65         9   0.5   105 -14.7311   14k    79  2.56151    2d\n",
       "1579  4.196149e-64         9   0.5   105 -13.5640   14k    49  2.33351    2d\n",
       "804   6.499267e-59         9   0.5    85 -13.8549   14k     7  1.77655    1d\n",
       "539   1.038260e-56         9   0.5    85 -15.6921   15k     7  2.25229    1d\n",
       "1023  1.049710e-55         9   0.5   107 -11.4913   11k    32  3.49994    3d\n",
       "1098  2.162684e-53         9   0.5    85 -12.3815   12k     7  1.56517    1d\n",
       "2389  1.802835e-50         9   0.5   175 -16.7803   15k    16 -2.96764    3k\n",
       "1366  1.176188e-49         9   0.5   126 -15.3612   15k    14 -2.49809    2k"
      ]
     },
     "execution_count": 16,
     "metadata": {},
     "output_type": "execute_result"
    }
   ],
   "source": [
    "print(hk[hk['evidence'] < 0.00000000000001].count())\n",
    "hk.nsmallest(10, 'evidence')"
   ]
  },
  {
   "cell_type": "code",
   "execution_count": 7,
   "metadata": {},
   "outputs": [
    {
     "data": {
      "text/plain": [
       "evidence    427\n",
       "handicap    427\n",
       "komi        427\n",
       "w_id        427\n",
       "w_mu        427\n",
       "w_cat       427\n",
       "l_id        427\n",
       "l_mu        427\n",
       "l_cat       427\n",
       "dtype: int64"
      ]
     },
     "execution_count": 7,
     "metadata": {},
     "output_type": "execute_result"
    }
   ],
   "source": [
    "hk[hk['evidence'] > 0.999999].count()\n"
   ]
  },
  {
   "cell_type": "code",
   "execution_count": 29,
   "metadata": {},
   "outputs": [
    {
     "data": {
      "text/plain": [
       "<matplotlib.collections.PathCollection at 0x7f8426396730>"
      ]
     },
     "execution_count": 29,
     "metadata": {},
     "output_type": "execute_result"
    },
    {
     "data": {
      "image/png": "[encoded data removed]",
      "text/plain": [
       "<Figure size 1080x720 with 1 Axes>"
      ]
     },
     "metadata": {
      "needs_background": "light"
     },
     "output_type": "display_data"
    }
   ],
   "source": [
    "plt.figure(figsize=(15,10)) \n",
    "plt.scatter(hk['handicap'], log_ev)\n",
    "#plt.hlines(-70,9,0, colors='grey',linestyle='dotted')\n",
    "#plt.hlines(-60,9,0, colors='grey',linestyle='dotted')\n"
   ]
  },
  {
   "cell_type": "code",
   "execution_count": 9,
   "metadata": {},
   "outputs": [
    {
     "data": {
      "text/plain": [
       "(array([557.,  58.,  51.,  63., 110., 177., 107.,  76.,  97., 349.]),\n",
       " array([1.48892589e-76, 9.99999992e-02, 1.99999998e-01, 2.99999998e-01,\n",
       "        3.99999997e-01, 4.99999996e-01, 5.99999995e-01, 6.99999994e-01,\n",
       "        7.99999994e-01, 8.99999993e-01, 9.99999992e-01]),\n",
       " <BarContainer object of 10 artists>)"
      ]
     },
     "execution_count": 9,
     "metadata": {},
     "output_type": "execute_result"
    },
    {
     "data": {
      "image/png": "[encoded data removed]",
      "text/plain": [
       "<Figure size 432x288 with 1 Axes>"
      ]
     },
     "metadata": {
      "needs_background": "light"
     },
     "output_type": "display_data"
    }
   ],
   "source": [
    "plt.hist(hk[hk['komi']<2]['evidence'])"
   ]
  },
  {
   "cell_type": "code",
   "execution_count": 10,
   "metadata": {},
   "outputs": [
    {
     "data": {
      "text/plain": [
       "evidence    1937\n",
       "handicap    1937\n",
       "komi        1937\n",
       "w_id        1937\n",
       "w_mu        1937\n",
       "w_cat       1937\n",
       "l_id        1937\n",
       "l_mu        1937\n",
       "l_cat       1937\n",
       "dtype: int64"
      ]
     },
     "execution_count": 10,
     "metadata": {},
     "output_type": "execute_result"
    }
   ],
   "source": [
    "(hk[hk['handicap'] == 0]).count()"
   ]
  },
  {
   "cell_type": "code",
   "execution_count": 44,
   "metadata": {},
   "outputs": [
    {
     "data": {
      "text/plain": [
       "-7.656208662204864"
      ]
     },
     "execution_count": 44,
     "metadata": {},
     "output_type": "execute_result"
    }
   ],
   "source": [
    "(hk[hk['handicap'] > 4]['evidence'].apply(lambda x : log(x,10))).mean()"
   ]
  },
  {
   "cell_type": "code",
   "execution_count": 43,
   "metadata": {},
   "outputs": [
    {
     "data": {
      "text/plain": [
       "-1.0822862417429973"
      ]
     },
     "execution_count": 43,
     "metadata": {},
     "output_type": "execute_result"
    }
   ],
   "source": [
    "(hk[hk['handicap'] < 5]['evidence'].apply(lambda x : log(x,10))).mean()"
   ]
  },
  {
   "cell_type": "code",
   "execution_count": null,
   "metadata": {},
   "outputs": [],
   "source": []
  },
  {
   "cell_type": "code",
   "execution_count": null,
   "metadata": {},
   "outputs": [],
   "source": []
  },
  {
   "cell_type": "code",
   "execution_count": null,
   "metadata": {},
   "outputs": [],
   "source": []
  },
  {
   "cell_type": "code",
   "execution_count": null,
   "metadata": {},
   "outputs": [],
   "source": []
  },
  {
   "cell_type": "code",
   "execution_count": null,
   "metadata": {},
   "outputs": [],
   "source": []
  },
  {
   "cell_type": "code",
   "execution_count": null,
   "metadata": {},
   "outputs": [],
   "source": []
  },
  {
   "cell_type": "code",
   "execution_count": null,
   "metadata": {},
   "outputs": [],
   "source": []
  }
 ],
 "metadata": {
  "kernelspec": {
   "display_name": "Python 3",
   "language": "python",
   "name": "python3"
  },
  "language_info": {
   "codemirror_mode": {
    "name": "ipython",
    "version": 3
   },
   "file_extension": ".py",
   "mimetype": "text/x-python",
   "name": "python",
   "nbconvert_exporter": "python",
   "pygments_lexer": "ipython3",
   "version": "3.8.10"
  }
 },
 "nbformat": 4,
 "nbformat_minor": 5
}
