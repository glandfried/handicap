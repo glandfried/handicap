{
 "cells": [
  {
   "cell_type": "code",
   "execution_count": 27,
   "metadata": {},
   "outputs": [],
   "source": [
    "import pandas as pd\n",
    "import matplotlib.pyplot as plt\n",
    "from math import log"
   ]
  },
  {
   "cell_type": "code",
   "execution_count": null,
   "metadata": {},
   "outputs": [],
   "source": []
  },
  {
   "cell_type": "code",
   "execution_count": 28,
   "metadata": {},
   "outputs": [],
   "source": [
    "#df = pd.read_csv('log_evidence.txt')\n",
    "#hk = pd.read_csv('log_ev.csv')\n",
    "hk = pd.read_csv('log_ev_handicap_parametrizado.csv')\n"
   ]
  },
  {
   "cell_type": "code",
   "execution_count": 29,
   "metadata": {},
   "outputs": [
    {
     "data": {
      "text/plain": [
       "0      -3.566971e-09\n",
       "1      -1.161872e+01\n",
       "2      -2.878219e-08\n",
       "3      -9.232671e-01\n",
       "4      -4.448193e-09\n",
       "            ...     \n",
       "3313   -1.480378e-05\n",
       "3314   -1.375163e-03\n",
       "3315   -4.761047e-06\n",
       "3316   -1.554236e-07\n",
       "3317   -7.754963e-05\n",
       "Name: evidence, Length: 3318, dtype: float64"
      ]
     },
     "execution_count": 29,
     "metadata": {},
     "output_type": "execute_result"
    }
   ],
   "source": [
    "log_ev = (hk['evidence']).apply(lambda x : log(x,10))\n",
    "log_ev"
   ]
  },
  {
   "cell_type": "code",
   "execution_count": 30,
   "metadata": {},
   "outputs": [],
   "source": [
    "log_sin_handic = (hk[hk['handicap']<3]['evidence']).apply(lambda x : log(x,10))\n"
   ]
  },
  {
   "cell_type": "code",
   "execution_count": 31,
   "metadata": {},
   "outputs": [
    {
     "data": {
      "image/png": "[encoded data removed]",
      "text/plain": [
       "<Figure size 720x576 with 1 Axes>"
      ]
     },
     "metadata": {
      "needs_background": "light"
     },
     "output_type": "display_data"
    }
   ],
   "source": [
    "#FIGURA 1\n",
    "plt.figure(figsize=(10,8)) \n",
    "plt.hist(log_ev,25, log = True)\n",
    "#plt.xscale('log')\n",
    "# plt.hlines(10,-75,0, colors='grey',linestyle='dotted')\n",
    "# plt.hlines(100,-75,0, colors='grey',linestyle='dotted')\n",
    "# plt.hlines(1000,-75,0, colors='grey',linestyle='dotted')\n",
    "plt.hlines(10,-40,0, colors='grey',linestyle='dotted')\n",
    "plt.hlines(100,-40,0, colors='grey',linestyle='dotted')\n",
    "plt.hlines(1000,-40,0, colors='grey',linestyle='dotted')\n",
    "plt.show()\n",
    "#, bins=[0,0.01,0.99,1]"
   ]
  },
  {
   "cell_type": "code",
   "execution_count": 32,
   "metadata": {},
   "outputs": [
    {
     "data": {
      "text/plain": [
       "(array([ 540.,   36.,   25.,   25.,   10.,   13.,   12.,   11.,   13.,\n",
       "          13.,   10.,   12.,   12.,    4.,   11.,    9.,   14.,    8.,\n",
       "           9.,    5.,    7.,   11.,   10.,    8.,    9.,   10.,   15.,\n",
       "           5.,    9.,    7.,    3.,    9.,    6.,    7.,   13.,    6.,\n",
       "           5.,    5.,    9.,   14.,   14.,   10.,    4.,   15.,    9.,\n",
       "           8.,    7.,    7.,   27.,   13.,   10.,    8.,    9.,   15.,\n",
       "          15.,   14.,   15.,   15.,    9.,   15.,   14.,   17.,   10.,\n",
       "          10.,    9.,   16.,    8.,    9.,   17.,   18.,   21.,   16.,\n",
       "          12.,   21.,   11.,    8.,   16.,   14.,   17.,   17.,   14.,\n",
       "          13.,   19.,   20.,   16.,   22.,   24.,   21.,   18.,   18.,\n",
       "          23.,   14.,   26.,   19.,   15.,   21.,   38.,   37.,   76.,\n",
       "        1384.]),\n",
       " array([3.05375263e-41, 9.99999992e-03, 1.99999998e-02, 2.99999998e-02,\n",
       "        3.99999997e-02, 4.99999996e-02, 5.99999995e-02, 6.99999994e-02,\n",
       "        7.99999994e-02, 8.99999993e-02, 9.99999992e-02, 1.09999999e-01,\n",
       "        1.19999999e-01, 1.29999999e-01, 1.39999999e-01, 1.49999999e-01,\n",
       "        1.59999999e-01, 1.69999999e-01, 1.79999999e-01, 1.89999998e-01,\n",
       "        1.99999998e-01, 2.09999998e-01, 2.19999998e-01, 2.29999998e-01,\n",
       "        2.39999998e-01, 2.49999998e-01, 2.59999998e-01, 2.69999998e-01,\n",
       "        2.79999998e-01, 2.89999998e-01, 2.99999998e-01, 3.09999998e-01,\n",
       "        3.19999997e-01, 3.29999997e-01, 3.39999997e-01, 3.49999997e-01,\n",
       "        3.59999997e-01, 3.69999997e-01, 3.79999997e-01, 3.89999997e-01,\n",
       "        3.99999997e-01, 4.09999997e-01, 4.19999997e-01, 4.29999997e-01,\n",
       "        4.39999996e-01, 4.49999996e-01, 4.59999996e-01, 4.69999996e-01,\n",
       "        4.79999996e-01, 4.89999996e-01, 4.99999996e-01, 5.09999996e-01,\n",
       "        5.19999996e-01, 5.29999996e-01, 5.39999996e-01, 5.49999996e-01,\n",
       "        5.59999996e-01, 5.69999995e-01, 5.79999995e-01, 5.89999995e-01,\n",
       "        5.99999995e-01, 6.09999995e-01, 6.19999995e-01, 6.29999995e-01,\n",
       "        6.39999995e-01, 6.49999995e-01, 6.59999995e-01, 6.69999995e-01,\n",
       "        6.79999995e-01, 6.89999994e-01, 6.99999994e-01, 7.09999994e-01,\n",
       "        7.19999994e-01, 7.29999994e-01, 7.39999994e-01, 7.49999994e-01,\n",
       "        7.59999994e-01, 7.69999994e-01, 7.79999994e-01, 7.89999994e-01,\n",
       "        7.99999994e-01, 8.09999994e-01, 8.19999993e-01, 8.29999993e-01,\n",
       "        8.39999993e-01, 8.49999993e-01, 8.59999993e-01, 8.69999993e-01,\n",
       "        8.79999993e-01, 8.89999993e-01, 8.99999993e-01, 9.09999993e-01,\n",
       "        9.19999993e-01, 9.29999993e-01, 9.39999993e-01, 9.49999992e-01,\n",
       "        9.59999992e-01, 9.69999992e-01, 9.79999992e-01, 9.89999992e-01,\n",
       "        9.99999992e-01]),\n",
       " <a list of 100 Patch objects>)"
      ]
     },
     "execution_count": 32,
     "metadata": {},
     "output_type": "execute_result"
    },
    {
     "data": {
      "image/png": "[encoded data removed]",
      "text/plain": [
       "<Figure size 1080x720 with 1 Axes>"
      ]
     },
     "metadata": {
      "needs_background": "light"
     },
     "output_type": "display_data"
    }
   ],
   "source": [
    "plt.figure(figsize=(15,10)) \n",
    "plt.hist(hk['evidence'],100, log = False)\n",
    "#plt.xscale('log')\n",
    "#plt.hlines(10,-75,0, colors='Red')\n",
    "#plt.show()\n",
    "#, bins=[0,0.01,0.99,1]"
   ]
  },
  {
   "cell_type": "code",
   "execution_count": 33,
   "metadata": {},
   "outputs": [
    {
     "name": "stdout",
     "output_type": "stream",
     "text": [
      "evidence    18\n",
      "handicap    18\n",
      "komi        18\n",
      "w_id        18\n",
      "w_mu        18\n",
      "w_cat       18\n",
      "l_id        18\n",
      "l_mu        18\n",
      "l_cat       18\n",
      "dtype: int64\n"
     ]
    },
    {
     "data": {
      "text/html": [
       "<div>\n",
       "<style scoped>\n",
       "    .dataframe tbody tr th:only-of-type {\n",
       "        vertical-align: middle;\n",
       "    }\n",
       "\n",
       "    .dataframe tbody tr th {\n",
       "        vertical-align: top;\n",
       "    }\n",
       "\n",
       "    .dataframe thead th {\n",
       "        text-align: right;\n",
       "    }\n",
       "</style>\n",
       "<table border=\"1\" class=\"dataframe\">\n",
       "  <thead>\n",
       "    <tr style=\"text-align: right;\">\n",
       "      <th></th>\n",
       "      <th>evidence</th>\n",
       "      <th>handicap</th>\n",
       "      <th>komi</th>\n",
       "      <th>w_id</th>\n",
       "      <th>w_mu</th>\n",
       "      <th>w_cat</th>\n",
       "      <th>l_id</th>\n",
       "      <th>l_mu</th>\n",
       "      <th>l_cat</th>\n",
       "    </tr>\n",
       "  </thead>\n",
       "  <tbody>\n",
       "    <tr>\n",
       "      <th>845</th>\n",
       "      <td>3.053753e-41</td>\n",
       "      <td>9</td>\n",
       "      <td>0.5</td>\n",
       "      <td>93</td>\n",
       "      <td>-20.4500</td>\n",
       "      <td>21k</td>\n",
       "      <td>6</td>\n",
       "      <td>3.69158</td>\n",
       "      <td>3d</td>\n",
       "    </tr>\n",
       "    <tr>\n",
       "      <th>2448</th>\n",
       "      <td>1.754420e-37</td>\n",
       "      <td>9</td>\n",
       "      <td>0.5</td>\n",
       "      <td>175</td>\n",
       "      <td>-16.7777</td>\n",
       "      <td>15k</td>\n",
       "      <td>79</td>\n",
       "      <td>1.88379</td>\n",
       "      <td>1d</td>\n",
       "    </tr>\n",
       "    <tr>\n",
       "      <th>1190</th>\n",
       "      <td>2.619020e-32</td>\n",
       "      <td>9</td>\n",
       "      <td>0.5</td>\n",
       "      <td>105</td>\n",
       "      <td>-14.7312</td>\n",
       "      <td>14k</td>\n",
       "      <td>79</td>\n",
       "      <td>2.56147</td>\n",
       "      <td>2d</td>\n",
       "    </tr>\n",
       "    <tr>\n",
       "      <th>1652</th>\n",
       "      <td>7.738556e-32</td>\n",
       "      <td>9</td>\n",
       "      <td>0.5</td>\n",
       "      <td>105</td>\n",
       "      <td>-13.8537</td>\n",
       "      <td>14k</td>\n",
       "      <td>49</td>\n",
       "      <td>2.54739</td>\n",
       "      <td>2d</td>\n",
       "    </tr>\n",
       "    <tr>\n",
       "      <th>761</th>\n",
       "      <td>1.042799e-27</td>\n",
       "      <td>9</td>\n",
       "      <td>0.5</td>\n",
       "      <td>85</td>\n",
       "      <td>-13.8550</td>\n",
       "      <td>14k</td>\n",
       "      <td>7</td>\n",
       "      <td>1.77653</td>\n",
       "      <td>1d</td>\n",
       "    </tr>\n",
       "    <tr>\n",
       "      <th>523</th>\n",
       "      <td>1.196702e-27</td>\n",
       "      <td>9</td>\n",
       "      <td>0.5</td>\n",
       "      <td>85</td>\n",
       "      <td>-15.6922</td>\n",
       "      <td>15k</td>\n",
       "      <td>7</td>\n",
       "      <td>2.25227</td>\n",
       "      <td>1d</td>\n",
       "    </tr>\n",
       "    <tr>\n",
       "      <th>323</th>\n",
       "      <td>3.574716e-26</td>\n",
       "      <td>7</td>\n",
       "      <td>0.5</td>\n",
       "      <td>26</td>\n",
       "      <td>-14.2110</td>\n",
       "      <td>7k</td>\n",
       "      <td>7</td>\n",
       "      <td>2.34354</td>\n",
       "      <td>1d</td>\n",
       "    </tr>\n",
       "    <tr>\n",
       "      <th>1043</th>\n",
       "      <td>1.183905e-25</td>\n",
       "      <td>9</td>\n",
       "      <td>0.5</td>\n",
       "      <td>107</td>\n",
       "      <td>-11.4914</td>\n",
       "      <td>11k</td>\n",
       "      <td>32</td>\n",
       "      <td>3.49993</td>\n",
       "      <td>3d</td>\n",
       "    </tr>\n",
       "    <tr>\n",
       "      <th>1218</th>\n",
       "      <td>1.333196e-23</td>\n",
       "      <td>9</td>\n",
       "      <td>0.5</td>\n",
       "      <td>85</td>\n",
       "      <td>-12.3815</td>\n",
       "      <td>12k</td>\n",
       "      <td>7</td>\n",
       "      <td>1.56514</td>\n",
       "      <td>1d</td>\n",
       "    </tr>\n",
       "    <tr>\n",
       "      <th>825</th>\n",
       "      <td>2.107494e-22</td>\n",
       "      <td>9</td>\n",
       "      <td>0.5</td>\n",
       "      <td>93</td>\n",
       "      <td>-20.4500</td>\n",
       "      <td>21k</td>\n",
       "      <td>58</td>\n",
       "      <td>-1.86461</td>\n",
       "      <td>1k</td>\n",
       "    </tr>\n",
       "  </tbody>\n",
       "</table>\n",
       "</div>"
      ],
      "text/plain": [
       "          evidence  handicap  komi  w_id     w_mu w_cat  l_id     l_mu l_cat\n",
       "845   3.053753e-41         9   0.5    93 -20.4500   21k     6  3.69158    3d\n",
       "2448  1.754420e-37         9   0.5   175 -16.7777   15k    79  1.88379    1d\n",
       "1190  2.619020e-32         9   0.5   105 -14.7312   14k    79  2.56147    2d\n",
       "1652  7.738556e-32         9   0.5   105 -13.8537   14k    49  2.54739    2d\n",
       "761   1.042799e-27         9   0.5    85 -13.8550   14k     7  1.77653    1d\n",
       "523   1.196702e-27         9   0.5    85 -15.6922   15k     7  2.25227    1d\n",
       "323   3.574716e-26         7   0.5    26 -14.2110    7k     7  2.34354    1d\n",
       "1043  1.183905e-25         9   0.5   107 -11.4914   11k    32  3.49993    3d\n",
       "1218  1.333196e-23         9   0.5    85 -12.3815   12k     7  1.56514    1d\n",
       "825   2.107494e-22         9   0.5    93 -20.4500   21k    58 -1.86461    1k"
      ]
     },
     "execution_count": 33,
     "metadata": {},
     "output_type": "execute_result"
    }
   ],
   "source": [
    "print(hk[hk['evidence'] < 0.00000000000000001].count())\n",
    "hk.nsmallest(10, 'evidence')"
   ]
  },
  {
   "cell_type": "code",
   "execution_count": 34,
   "metadata": {},
   "outputs": [
    {
     "data": {
      "text/plain": [
       "evidence    663\n",
       "handicap    663\n",
       "komi        663\n",
       "w_id        663\n",
       "w_mu        663\n",
       "w_cat       663\n",
       "l_id        663\n",
       "l_mu        663\n",
       "l_cat       663\n",
       "dtype: int64"
      ]
     },
     "execution_count": 34,
     "metadata": {},
     "output_type": "execute_result"
    }
   ],
   "source": [
    "hk[hk['evidence'] > 0.999999].count()\n"
   ]
  },
  {
   "cell_type": "code",
   "execution_count": 35,
   "metadata": {},
   "outputs": [
    {
     "data": {
      "text/plain": [
       "<matplotlib.collections.PathCollection at 0x7f745abc0640>"
      ]
     },
     "execution_count": 35,
     "metadata": {},
     "output_type": "execute_result"
    },
    {
     "data": {
      "image/png": "[encoded data removed]",
      "text/plain": [
       "<Figure size 1080x720 with 1 Axes>"
      ]
     },
     "metadata": {
      "needs_background": "light"
     },
     "output_type": "display_data"
    }
   ],
   "source": [
    "plt.figure(figsize=(15,10)) \n",
    "plt.scatter(hk['handicap'], log_ev)\n",
    "#plt.hlines(-70,9,0, colors='grey',linestyle='dotted')\n",
    "#plt.hlines(-60,9,0, colors='grey',linestyle='dotted')\n"
   ]
  },
  {
   "cell_type": "code",
   "execution_count": 36,
   "metadata": {},
   "outputs": [
    {
     "data": {
      "text/plain": [
       "(array([529.,  53.,  27.,  23.,  30.,  52.,  57.,  82.,  90., 702.]),\n",
       " array([3.05375263e-41, 9.99999992e-02, 1.99999998e-01, 2.99999998e-01,\n",
       "        3.99999997e-01, 4.99999996e-01, 5.99999995e-01, 6.99999994e-01,\n",
       "        7.99999994e-01, 8.99999993e-01, 9.99999992e-01]),\n",
       " <a list of 10 Patch objects>)"
      ]
     },
     "execution_count": 36,
     "metadata": {},
     "output_type": "execute_result"
    },
    {
     "data": {
      "image/png": "[encoded data removed]",
      "text/plain": [
       "<Figure size 432x288 with 1 Axes>"
      ]
     },
     "metadata": {
      "needs_background": "light"
     },
     "output_type": "display_data"
    }
   ],
   "source": [
    "plt.hist(hk[hk['komi']<2]['evidence'])"
   ]
  },
  {
   "cell_type": "code",
   "execution_count": 37,
   "metadata": {},
   "outputs": [
    {
     "data": {
      "text/plain": [
       "evidence    1937\n",
       "handicap    1937\n",
       "komi        1937\n",
       "w_id        1937\n",
       "w_mu        1937\n",
       "w_cat       1937\n",
       "l_id        1937\n",
       "l_mu        1937\n",
       "l_cat       1937\n",
       "dtype: int64"
      ]
     },
     "execution_count": 37,
     "metadata": {},
     "output_type": "execute_result"
    }
   ],
   "source": [
    "(hk[hk['handicap'] == 0]).count()"
   ]
  },
  {
   "cell_type": "code",
   "execution_count": 38,
   "metadata": {},
   "outputs": [
    {
     "data": {
      "text/plain": [
       "-2.986370217975868"
      ]
     },
     "execution_count": 38,
     "metadata": {},
     "output_type": "execute_result"
    }
   ],
   "source": [
    "(hk_modif[hk_modif['handicap'] > 4]['evidence'].apply(lambda x : log(x,10))).mean()"
   ]
  },
  {
   "cell_type": "code",
   "execution_count": 39,
   "metadata": {},
   "outputs": [
    {
     "data": {
      "text/plain": [
       "-1.746447519580835"
      ]
     },
     "execution_count": 39,
     "metadata": {},
     "output_type": "execute_result"
    }
   ],
   "source": [
    "(hk_modif[hk_modif['handicap'] ==3]['evidence'].apply(lambda x : log(x,10))).mean()"
   ]
  },
  {
   "cell_type": "code",
   "execution_count": 40,
   "metadata": {},
   "outputs": [
    {
     "data": {
      "text/plain": [
       "-2.986370217975868"
      ]
     },
     "execution_count": 40,
     "metadata": {},
     "output_type": "execute_result"
    }
   ],
   "source": [
    "(hk[hk['handicap'] > 4]['evidence'].apply(lambda x : log(x,10))).mean()"
   ]
  },
  {
   "cell_type": "code",
   "execution_count": 41,
   "metadata": {},
   "outputs": [
    {
     "data": {
      "text/plain": [
       "-1.746447519580835"
      ]
     },
     "execution_count": 41,
     "metadata": {},
     "output_type": "execute_result"
    }
   ],
   "source": [
    "(hk[hk['handicap']==3]['evidence'].apply(lambda x : log(x,10))).mean()"
   ]
  },
  {
   "cell_type": "code",
   "execution_count": 42,
   "metadata": {},
   "outputs": [],
   "source": [
    "means_modif=[((hk_modif[hk_modif['handicap'] == x]['evidence'].apply(lambda x : log(x,10))).mean()) for x in [0,2,3,4,5,6,7,8,9] ]"
   ]
  },
  {
   "cell_type": "code",
   "execution_count": 43,
   "metadata": {},
   "outputs": [],
   "source": [
    "means=[((hk[hk['handicap']==x]['evidence'].apply(lambda x : log(x,10))).mean()) for x in [0,2,3,4,5,6,7,8,9] ]"
   ]
  },
  {
   "cell_type": "code",
   "execution_count": 44,
   "metadata": {},
   "outputs": [
    {
     "data": {
      "text/plain": [
       "[<matplotlib.lines.Line2D at 0x7f745a56f370>]"
      ]
     },
     "execution_count": 44,
     "metadata": {},
     "output_type": "execute_result"
    },
    {
     "data": {
      "image/png": "[encoded data removed]",
      "text/plain": [
       "<Figure size 1080x720 with 1 Axes>"
      ]
     },
     "metadata": {
      "needs_background": "light"
     },
     "output_type": "display_data"
    }
   ],
   "source": [
    "plt.figure(figsize=(15,10)) \n",
    "plt.plot([0,2,3,4,5,6,7,8,9],means)\n",
    "plt.plot([0,2,3,4,5,6,7,8,9],means_modif)"
   ]
  },
  {
   "cell_type": "code",
   "execution_count": null,
   "metadata": {},
   "outputs": [],
   "source": []
  },
  {
   "cell_type": "code",
   "execution_count": null,
   "metadata": {},
   "outputs": [],
   "source": []
  },
  {
   "cell_type": "code",
   "execution_count": null,
   "metadata": {},
   "outputs": [],
   "source": []
  },
  {
   "cell_type": "code",
   "execution_count": null,
   "metadata": {},
   "outputs": [],
   "source": []
  },
  {
   "cell_type": "code",
   "execution_count": null,
   "metadata": {},
   "outputs": [],
   "source": []
  }
 ],
 "metadata": {
  "kernelspec": {
   "display_name": "Python 3",
   "language": "python",
   "name": "python3"
  },
  "language_info": {
   "codemirror_mode": {
    "name": "ipython",
    "version": 3
   },
   "file_extension": ".py",
   "mimetype": "text/x-python",
   "name": "python",
   "nbconvert_exporter": "python",
   "pygments_lexer": "ipython3",
   "version": "3.8.10"
  }
 },
 "nbformat": 4,
 "nbformat_minor": 5
}
